{
 "cells": [
  {
   "cell_type": "code",
   "execution_count": 80,
   "metadata": {},
   "outputs": [],
   "source": [
    "import pandas as pd\n",
    "import matplotlib.pyplot as plt\n",
    "import numpy as py"
   ]
  },
  {
   "cell_type": "code",
   "execution_count": 81,
   "metadata": {},
   "outputs": [
    {
     "name": "stdout",
     "output_type": "stream",
     "text": [
      "D:\\Biometrics_HW2\n"
     ]
    }
   ],
   "source": [
    "cd D:\\Biometrics_HW2"
   ]
  },
  {
   "cell_type": "code",
   "execution_count": 82,
   "metadata": {},
   "outputs": [],
   "source": [
    "## import file\n",
    "frame = pd.read_excel('values_2200.xlsx', index_col =0)"
   ]
  },
  {
   "cell_type": "code",
   "execution_count": 83,
   "metadata": {},
   "outputs": [
    {
     "data": {
      "image/png": "[encoded data removed]",
      "text/plain": [
       "<Figure size 432x288 with 1 Axes>"
      ]
     },
     "metadata": {
      "needs_background": "light"
     },
     "output_type": "display_data"
    }
   ],
   "source": [
    "##plot distribution graphs\n",
    "\n",
    "m=[frame[a][b] for a in frame.columns for b in frame .index if a==b]\n",
    "n=[frame[a][b] for a in frame.columns for b in frame .index if a!=b]\n",
    "from collections import Counter\n",
    "xa=Counter(m)\n",
    "ya=Counter(n)\n",
    "\n",
    "\n",
    "x1=[i[0] for i in xa.items() if py.isnan(i[0])==False]\n",
    "y1=[i[1] for i in xa.items() if py.isnan(i[0])==False]\n",
    "color1 = ['orange' if i[0]>=0.5 else 'skyblue' for i in xa.items() if py.isnan(i[0])==False]\n",
    "plt.bar(x1,y1,width=0.02, color = color1)\n",
    "x2=[i[0] for i in ya.items() if py.isnan(i[0])==False]\n",
    "y2=[i[1] for i in ya.items() if py.isnan(i[0])==False]\n",
    "color2 = ['orange' if i[0]>=0.5 else 'skyblue' for i in ya.items() if py.isnan(i[0])==False]\n",
    "plt.bar(x2,y2,width=0.025,color = color2)\n",
    "plt.show()\n"
   ]
  },
  {
   "cell_type": "code",
   "execution_count": 84,
   "metadata": {
    "scrolled": true
   },
   "outputs": [
    {
     "data": {
      "image/png": "[encoded data removed]",
      "text/plain": [
       "<Figure size 432x288 with 1 Axes>"
      ]
     },
     "metadata": {
      "needs_background": "light"
     },
     "output_type": "display_data"
    }
   ],
   "source": [
    "## plot CMC graphs\n",
    "\n",
    "ads=[a for a in frame.columns for b in frame.index if a==b]\n",
    "re={}\n",
    "for ad in ads:\n",
    "    row=[a for a in frame[:][ad]]\n",
    "    for i in range(88):\n",
    "        if frame[ad][ad] in row[:i]:\n",
    "            re[i]=re.get(i,0)+1\n",
    "\n",
    "x=list(re.keys())\n",
    "y=list(re.values())\n",
    "x.insert(0,0)\n",
    "y.insert(0,0.1)\n",
    "plt.plot(x,y)\n",
    "plt.show()\n",
    "\n"
   ]
  },
  {
   "cell_type": "code",
   "execution_count": 85,
   "metadata": {},
   "outputs": [],
   "source": [
    "def tmr(a,th):\n",
    "    count=0\n",
    "    for i in a:\n",
    "        if i<=th:\n",
    "            count +=1\n",
    "    return count/(len(a)*1.0)\n",
    "        \n",
    "    "
   ]
  },
  {
   "cell_type": "code",
   "execution_count": 86,
   "metadata": {},
   "outputs": [],
   "source": [
    "def fmr(b,th):\n",
    "    count=0\n",
    "    for i in b:\n",
    "        if i<=th:\n",
    "            count +=1\n",
    "    return count/(len(b)*1.0)"
   ]
  },
  {
   "cell_type": "code",
   "execution_count": 87,
   "metadata": {},
   "outputs": [
    {
     "data": {
      "image/png": "[encoded data removed]",
      "text/plain": [
       "<Figure size 432x288 with 1 Axes>"
      ]
     },
     "metadata": {
      "needs_background": "light"
     },
     "output_type": "display_data"
    }
   ],
   "source": [
    "##plot ROC graphs\n",
    "\n",
    "m=[frame[a][b] for a in frame.columns for b in frame .index if a==b]\n",
    "n=[frame[a][b] for a in frame.columns for b in frame .index if a!=b]\n",
    "re_a = [tmr(m,i) for i in py.arange(0,1,0.01)]\n",
    "re_b=[fmr(n,i) for i in py.arange(0,1,0.01)]\n",
    "plt.plot(re_b,re_a)\n",
    "\n",
    "plt.show()"
   ]
  }
 ],
 "metadata": {
  "kernelspec": {
   "display_name": "Python 3",
   "language": "python",
   "name": "python3"
  },
  "language_info": {
   "codemirror_mode": {
    "name": "ipython",
    "version": 3
   },
   "file_extension": ".py",
   "mimetype": "text/x-python",
   "name": "python",
   "nbconvert_exporter": "python",
   "pygments_lexer": "ipython3",
   "version": "3.7.3"
  }
 },
 "nbformat": 4,
 "nbformat_minor": 2
}
